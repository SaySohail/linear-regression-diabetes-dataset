{
 "cells": [
  {
   "attachments": {},
   "cell_type": "markdown",
   "metadata": {
    "id": "8NRMjCyyZdMy"
   },
   "source": [
    "## 0. Introduction \n",
    "\n",
    "In this machine learning project, I aim to analyze the diabetes dataset, which contains baseline measurements and disease progression data for 442 diabetes patients. I will apply linear regression techniques, including univariate and multivariate regression, to predict the quantitative measure of disease progression based on the available variables. Additionally, I will explore the concepts of underfitting, overfitting, and regularization to improve the model's performance and prevent overfitting."
   ]
  },
  {
   "cell_type": "code",
   "execution_count": 2183,
   "metadata": {
    "id": "lkLnfbLLwxxS"
   },
   "outputs": [],
   "source": [
    "import torch\n",
    "from torch import nn\n",
    "from sklearn import model_selection\n",
    "import pandas as pd\n",
    "import matplotlib.pyplot as plt\n",
    "import seaborn as sn\n",
    "from IPython import display\n",
    "\n",
    "import typing\n",
    "%matplotlib inline\n"
   ]
  },
  {
   "cell_type": "code",
   "execution_count": 2184,
   "metadata": {
    "id": "LJJVj3d3b43I"
   },
   "outputs": [],
   "source": [
    "diabetes_db = pd.read_csv('https://www4.stat.ncsu.edu/~boos/var.select/diabetes.tab.txt', sep='\\t', header=0)\n",
    "#sn.pairplot(diabetes_db)\n"
   ]
  },
  {
   "cell_type": "code",
   "execution_count": 2185,
   "metadata": {
    "id": "imFNxOVrf36P"
   },
   "outputs": [
    {
     "data": {
      "text/html": [
       "<div>\n",
       "<style scoped>\n",
       "    .dataframe tbody tr th:only-of-type {\n",
       "        vertical-align: middle;\n",
       "    }\n",
       "\n",
       "    .dataframe tbody tr th {\n",
       "        vertical-align: top;\n",
       "    }\n",
       "\n",
       "    .dataframe thead th {\n",
       "        text-align: right;\n",
       "    }\n",
       "</style>\n",
       "<table border=\"1\" class=\"dataframe\">\n",
       "  <thead>\n",
       "    <tr style=\"text-align: right;\">\n",
       "      <th></th>\n",
       "      <th>AGE</th>\n",
       "      <th>SEX</th>\n",
       "      <th>BMI</th>\n",
       "      <th>BP</th>\n",
       "      <th>S1</th>\n",
       "      <th>S2</th>\n",
       "      <th>S3</th>\n",
       "      <th>S4</th>\n",
       "      <th>S5</th>\n",
       "      <th>S6</th>\n",
       "      <th>Y</th>\n",
       "    </tr>\n",
       "  </thead>\n",
       "  <tbody>\n",
       "    <tr>\n",
       "      <th>count</th>\n",
       "      <td>442.000000</td>\n",
       "      <td>442.000000</td>\n",
       "      <td>442.000000</td>\n",
       "      <td>442.000000</td>\n",
       "      <td>442.000000</td>\n",
       "      <td>442.000000</td>\n",
       "      <td>442.000000</td>\n",
       "      <td>442.000000</td>\n",
       "      <td>442.000000</td>\n",
       "      <td>442.000000</td>\n",
       "      <td>442.000000</td>\n",
       "    </tr>\n",
       "    <tr>\n",
       "      <th>mean</th>\n",
       "      <td>48.518100</td>\n",
       "      <td>1.468326</td>\n",
       "      <td>26.375792</td>\n",
       "      <td>94.647014</td>\n",
       "      <td>189.140271</td>\n",
       "      <td>115.439140</td>\n",
       "      <td>49.788462</td>\n",
       "      <td>4.070249</td>\n",
       "      <td>4.641411</td>\n",
       "      <td>91.260181</td>\n",
       "      <td>152.133484</td>\n",
       "    </tr>\n",
       "    <tr>\n",
       "      <th>std</th>\n",
       "      <td>13.109028</td>\n",
       "      <td>0.499561</td>\n",
       "      <td>4.418122</td>\n",
       "      <td>13.831283</td>\n",
       "      <td>34.608052</td>\n",
       "      <td>30.413081</td>\n",
       "      <td>12.934202</td>\n",
       "      <td>1.290450</td>\n",
       "      <td>0.522391</td>\n",
       "      <td>11.496335</td>\n",
       "      <td>77.093005</td>\n",
       "    </tr>\n",
       "    <tr>\n",
       "      <th>min</th>\n",
       "      <td>19.000000</td>\n",
       "      <td>1.000000</td>\n",
       "      <td>18.000000</td>\n",
       "      <td>62.000000</td>\n",
       "      <td>97.000000</td>\n",
       "      <td>41.600000</td>\n",
       "      <td>22.000000</td>\n",
       "      <td>2.000000</td>\n",
       "      <td>3.258100</td>\n",
       "      <td>58.000000</td>\n",
       "      <td>25.000000</td>\n",
       "    </tr>\n",
       "    <tr>\n",
       "      <th>25%</th>\n",
       "      <td>38.250000</td>\n",
       "      <td>1.000000</td>\n",
       "      <td>23.200000</td>\n",
       "      <td>84.000000</td>\n",
       "      <td>164.250000</td>\n",
       "      <td>96.050000</td>\n",
       "      <td>40.250000</td>\n",
       "      <td>3.000000</td>\n",
       "      <td>4.276700</td>\n",
       "      <td>83.250000</td>\n",
       "      <td>87.000000</td>\n",
       "    </tr>\n",
       "    <tr>\n",
       "      <th>50%</th>\n",
       "      <td>50.000000</td>\n",
       "      <td>1.000000</td>\n",
       "      <td>25.700000</td>\n",
       "      <td>93.000000</td>\n",
       "      <td>186.000000</td>\n",
       "      <td>113.000000</td>\n",
       "      <td>48.000000</td>\n",
       "      <td>4.000000</td>\n",
       "      <td>4.620050</td>\n",
       "      <td>91.000000</td>\n",
       "      <td>140.500000</td>\n",
       "    </tr>\n",
       "    <tr>\n",
       "      <th>75%</th>\n",
       "      <td>59.000000</td>\n",
       "      <td>2.000000</td>\n",
       "      <td>29.275000</td>\n",
       "      <td>105.000000</td>\n",
       "      <td>209.750000</td>\n",
       "      <td>134.500000</td>\n",
       "      <td>57.750000</td>\n",
       "      <td>5.000000</td>\n",
       "      <td>4.997200</td>\n",
       "      <td>98.000000</td>\n",
       "      <td>211.500000</td>\n",
       "    </tr>\n",
       "    <tr>\n",
       "      <th>max</th>\n",
       "      <td>79.000000</td>\n",
       "      <td>2.000000</td>\n",
       "      <td>42.200000</td>\n",
       "      <td>133.000000</td>\n",
       "      <td>301.000000</td>\n",
       "      <td>242.400000</td>\n",
       "      <td>99.000000</td>\n",
       "      <td>9.090000</td>\n",
       "      <td>6.107000</td>\n",
       "      <td>124.000000</td>\n",
       "      <td>346.000000</td>\n",
       "    </tr>\n",
       "  </tbody>\n",
       "</table>\n",
       "</div>"
      ],
      "text/plain": [
       "              AGE         SEX         BMI          BP          S1          S2  \\\n",
       "count  442.000000  442.000000  442.000000  442.000000  442.000000  442.000000   \n",
       "mean    48.518100    1.468326   26.375792   94.647014  189.140271  115.439140   \n",
       "std     13.109028    0.499561    4.418122   13.831283   34.608052   30.413081   \n",
       "min     19.000000    1.000000   18.000000   62.000000   97.000000   41.600000   \n",
       "25%     38.250000    1.000000   23.200000   84.000000  164.250000   96.050000   \n",
       "50%     50.000000    1.000000   25.700000   93.000000  186.000000  113.000000   \n",
       "75%     59.000000    2.000000   29.275000  105.000000  209.750000  134.500000   \n",
       "max     79.000000    2.000000   42.200000  133.000000  301.000000  242.400000   \n",
       "\n",
       "               S3          S4          S5          S6           Y  \n",
       "count  442.000000  442.000000  442.000000  442.000000  442.000000  \n",
       "mean    49.788462    4.070249    4.641411   91.260181  152.133484  \n",
       "std     12.934202    1.290450    0.522391   11.496335   77.093005  \n",
       "min     22.000000    2.000000    3.258100   58.000000   25.000000  \n",
       "25%     40.250000    3.000000    4.276700   83.250000   87.000000  \n",
       "50%     48.000000    4.000000    4.620050   91.000000  140.500000  \n",
       "75%     57.750000    5.000000    4.997200   98.000000  211.500000  \n",
       "max     99.000000    9.090000    6.107000  124.000000  346.000000  "
      ]
     },
     "execution_count": 2185,
     "metadata": {},
     "output_type": "execute_result"
    }
   ],
   "source": [
    "diabetes_db.head(10)\n",
    "diabetes_db.describe()"
   ]
  },
  {
   "cell_type": "code",
   "execution_count": 2186,
   "metadata": {},
   "outputs": [
    {
     "data": {
      "text/plain": [
       "<Figure size 1080x216 with 0 Axes>"
      ]
     },
     "execution_count": 2186,
     "metadata": {},
     "output_type": "execute_result"
    },
    {
     "data": {
      "text/plain": [
       "<Figure size 1080x216 with 0 Axes>"
      ]
     },
     "metadata": {},
     "output_type": "display_data"
    }
   ],
   "source": [
    "plt.figure(figsize=(15, 3))"
   ]
  },
  {
   "cell_type": "markdown",
   "metadata": {
    "id": "LGjbgZxNdrLH"
   },
   "source": [
    "We first split the data into test and training sets. For consistency and to allow for meaningful comparison the same splits are maintained in the remainder of the lab."
   ]
  },
  {
   "cell_type": "code",
   "execution_count": 2187,
   "metadata": {
    "id": "Lad3ihXjd-Ev"
   },
   "outputs": [],
   "source": [
    "X_train, X_test, y_train, y_test = model_selection.train_test_split(\n",
    "    diabetes_db.loc[:, diabetes_db.columns != 'Y'],\n",
    "    diabetes_db['Y'],\n",
    "    test_size=0.2,\n",
    "    random_state=42\n",
    "    )\n",
    "x_train = torch.from_numpy(X_train.values).float()\n",
    "x_test = torch.from_numpy(X_test.values).float()\n",
    "\n",
    "y_train = torch.from_numpy(y_train.values).float()\n",
    "y_train = y_train.reshape(-1, 1)\n",
    "y_test = torch.from_numpy(y_test.values).float()\n",
    "y_test = y_test.reshape(-1, 1)\n"
   ]
  },
  {
   "cell_type": "markdown",
   "metadata": {
    "id": "hLLITe4POndx"
   },
   "source": [
    "We can see that all the independent variables are on different scales. This can affect gradient descent, we therefore need to normalize all features to zero mean, and unit standard deviation. The normalized value $z_i$ of $x_i$ is obtained through $z_i = \\frac{x_i - μ}{σ}$ where $μ$ is the mean and $σ$ is the standard deviation of $X$ and $x_i, μ, σ ∈ \\mathbb{R}^D$.\n",
    "\n",
    "**Q1.** Complete the method and normalize `x_train, x_test` [2 marks]"
   ]
  },
  {
   "cell_type": "code",
   "execution_count": 2188,
   "metadata": {
    "id": "z3E-8C1USNFP"
   },
   "outputs": [
    {
     "name": "stdout",
     "output_type": "stream",
     "text": [
      "Normalised x_train tensor([[ 1.4962,  1.0599,  0.2196,  ...,  0.7100,  0.5467, -0.0614],\n",
      "        [-0.2285,  1.0599, -0.4188,  ...,  1.4822, -0.0197,  0.3667],\n",
      "        [ 0.0851, -0.9408,  1.0175,  ..., -0.0621,  0.3308, -0.3182],\n",
      "        ...,\n",
      "        [ 0.6339, -0.9408, -0.4644,  ..., -0.8343, -0.2534, -0.0614],\n",
      "        [-0.3069, -0.9408, -0.5328,  ..., -0.0621, -0.8295, -0.8319],\n",
      "        [-2.0317, -0.9408,  0.5616,  ..., -0.8343, -0.1329, -0.0614]])\n",
      "Normalised x_test tensor([[ 0.9764, -0.9190,  0.0139, -0.2571,  2.6045,  2.5574,  0.3058,  0.7590,\n",
      "          0.7972,  0.0519],\n",
      "        [ 1.8794, -0.9190,  0.9007,  0.6029, -0.5761, -0.4162, -0.0630, -0.8055,\n",
      "         -0.3786, -0.3252],\n",
      "        [ 1.3237,  1.0759,  0.0583, -0.1789,  2.1377,  0.9557,  1.0433, -0.0233,\n",
      "          1.9112, -0.2310],\n",
      "        [ 1.9488, -0.9190,  1.2110,  1.9063,  1.1164,  0.6997, -1.6118,  3.0275,\n",
      "          2.2141,  1.5606],\n",
      "        [ 0.3512,  1.0759, -0.2742,  0.0556,  0.7662,  1.0476, -0.2105,  0.7590,\n",
      "         -0.0068, -0.0424],\n",
      "        [ 0.2817, -0.9190, -0.3629, -0.4917,  2.0501,  1.9075,  1.3384, -0.0233,\n",
      "         -0.3546,  0.3348],\n",
      "        [-0.0656,  1.0759,  3.6496,  0.4466,  0.5911,  0.6406, -0.5055,  0.7590,\n",
      "          0.8233,  0.9005],\n",
      "        [-0.3434,  1.0759,  1.0780,  0.6029,  2.2836,  1.7960, -0.0630,  0.7590,\n",
      "          1.6907,  1.5606],\n",
      "        [-1.6632,  1.0759, -1.7152, -1.1953, -0.5761, -0.7050, -0.2105, -0.0233,\n",
      "          0.6179,  0.2405],\n",
      "        [-1.0380,  1.0759,  0.4573, -0.3353,  0.7370,  0.9426,  0.3058, -0.0233,\n",
      "         -0.5547,  0.1462],\n",
      "        [-0.6907, -0.9190, -0.5403, -0.4135,  0.9413,  0.8047,  1.0433, -0.4926,\n",
      "         -0.4521, -0.7024],\n",
      "        [ 0.2123, -0.9190, -1.0501, -0.4135, -1.4806, -1.4993, -1.1693, -0.0233,\n",
      "          1.0211, -1.7396],\n",
      "        [-1.5937, -0.9190, -1.1166, -0.4917, -1.2180, -1.2105,  0.7483, -1.5878,\n",
      "         -1.9069, -1.0796],\n",
      "        [ 0.4901,  1.0759,  0.4352,  1.5412,  0.2702,  0.3584, -1.0218,  0.7590,\n",
      "          1.1017,  2.2206],\n",
      "        [-0.1350,  1.0759, -1.0058,  0.0556, -0.6344, -0.6788,  0.3058, -0.8055,\n",
      "         -0.2618,  1.1834],\n",
      "        [-0.5518,  1.0759,  0.2578, -0.0225, -1.5973, -1.3812, -0.2105, -0.8055,\n",
      "         -0.8688,  0.9005],\n",
      "        [ 0.9069,  1.0759,  1.6101,  0.2902,  0.7662,  0.2665, -0.4318,  0.7590,\n",
      "          1.6740,  2.1263],\n",
      "        [ 1.3237,  1.0759,  1.9648,  1.6975,  0.3869,  0.7194, -1.0956,  1.5412,\n",
      "          0.7301,  1.8434],\n",
      "        [-0.4823,  1.0759,  0.7233,  1.6975, -2.7353, -2.3067, -1.1693, -0.9855,\n",
      "         -0.5547,  0.5234],\n",
      "        [ 1.0458,  1.0759,  1.3441,  1.6975,  0.2410,  0.3649, -0.5055,  0.7590,\n",
      "          0.5740,  0.8062],\n",
      "        [-1.2464, -0.9190,  0.9450, -0.6480, -0.3134, -0.7904, -0.5793, -0.0233,\n",
      "          1.5526, -0.1367],\n",
      "        [ 1.0458, -0.9190, -0.7398, -1.1171,  0.9121,  0.9820,  0.6008, -0.0233,\n",
      "         -0.4521, -1.2682],\n",
      "        [-0.6907, -0.9190, -0.8728, -0.7262, -0.1967, -0.5409,  1.6334, -0.8055,\n",
      "         -1.3195,  0.3348],\n",
      "        [ 1.2542,  1.0759,  0.6125,  1.2284,  0.2993,  0.1811, -0.3580, -0.0233,\n",
      "          0.9493,  0.6177],\n",
      "        [-1.0380, -0.9190,  1.0559, -0.3353, -0.2551, -0.2258,  0.3795, -0.8055,\n",
      "         -0.4773, -0.0424],\n",
      "        [ 0.9069,  1.0759,  0.4352,  1.0720, -0.6928, -0.0946, -0.9480, -0.0233,\n",
      "         -0.6082,  0.5234],\n",
      "        [ 0.6985,  1.0759,  1.3662,  1.3848, -0.5177, -0.0420, -0.7268, -0.0233,\n",
      "         -0.4274, -0.2310],\n",
      "        [ 0.8374,  1.0759, -0.2299,  1.6193, -1.1305, -0.4162, -1.6118,  0.7590,\n",
      "         -0.1514, -0.1367],\n",
      "        [-0.9686, -0.9190, -1.3827, -1.0389, -0.5761, -1.0529,  1.7809, -1.5878,\n",
      "         -1.2058, -0.8910],\n",
      "        [ 0.4207,  1.0759, -0.2964, -0.1007,  0.6787,  0.9360, -0.0630, -0.0233,\n",
      "         -0.1730,  0.7119],\n",
      "        [ 0.6291, -0.9190,  2.0535, -1.0913,  0.1243,  0.7654, -0.6530,  0.4773,\n",
      "         -0.9316,  0.6177],\n",
      "        [-1.8716, -0.9190, -0.6289, -0.4917,  0.0075,  0.3518,  0.1583, -0.0233,\n",
      "         -1.3589, -0.4195],\n",
      "        [ 0.0734,  1.0759,  0.4352, -1.5862,  0.0075,  0.0630, -0.3580, -0.0233,\n",
      "          0.5140,  0.2405],\n",
      "        [ 0.6291,  1.0759,  0.0139,  0.7593, -0.4010, -0.1011, -1.2431,  0.7590,\n",
      "          0.7301,  0.9005],\n",
      "        [ 1.9488, -0.9190,  0.9672, -1.1953,  0.9121,  1.2052, -0.5055,  0.7981,\n",
      "          0.3718,  0.7119],\n",
      "        [-1.3853,  1.0759,  1.7431,  1.3066,  1.6124,  1.2839,  0.4533, -0.0233,\n",
      "          0.9735, -0.0424],\n",
      "        [-0.0656,  1.0759, -0.4959, -0.4917, -0.2843, -0.0880, -0.5055, -0.0233,\n",
      "          0.2360,  0.8062],\n",
      "        [ 0.0734,  1.0759, -0.5403, -0.3095,  0.6203,  0.8310, -0.3580,  0.4539,\n",
      "          0.3220,  0.8062],\n",
      "        [ 1.3931,  1.0759, -0.4959,  0.2120,  0.4744,  0.6800, -0.6530,  0.7590,\n",
      "          0.6033,  2.0320],\n",
      "        [ 0.4901, -0.9190, -1.0501, -1.1953, -0.0800, -0.3309,  1.4121, -0.8055,\n",
      "         -1.2058, -1.5510],\n",
      "        [ 0.0734, -0.9190, -1.2940, -0.1789, -0.0508, -0.2587,  1.3384, -0.8055,\n",
      "         -1.2431,  1.0891],\n",
      "        [ 1.3931,  1.0759, -0.4738,  1.4106, -0.0508, -0.3965,  1.4121, -1.0402,\n",
      "         -0.7198,  0.3348],\n",
      "        [ 0.9069,  1.0759, -0.3186,  0.7593, -1.4514, -1.0136, -1.3168, -0.0233,\n",
      "          0.1644, -1.0796],\n",
      "        [ 2.2267,  1.0759, -0.5403, -0.4135, -0.1384,  0.3584, -1.3168,  1.5412,\n",
      "          0.4363,  1.1834],\n",
      "        [ 0.9069, -0.9190, -0.7841,  0.8899,  0.8829, -0.3965,  0.6746, -0.2736,\n",
      "          2.0268,  0.3348],\n",
      "        [-0.2045, -0.9190, -0.5846, -0.4917,  0.6495,  0.2927,  1.9284, -0.8055,\n",
      "         -1.3991, -1.6453],\n",
      "        [-1.7326, -0.9190, -0.6068, -1.5862, -0.8678, -0.6460,  0.2320, -0.8055,\n",
      "         -1.4822,  0.1462],\n",
      "        [ 0.6985, -0.9190, -0.8950,  0.0556, -0.9846, -1.9522,  2.2972, -1.5878,\n",
      "         -0.2844,  0.2405],\n",
      "        [-0.2739, -0.9190, -1.6044, -0.4917, -0.8095, -0.7838,  0.7483, -1.0637,\n",
      "         -1.6595, -0.8910],\n",
      "        [-1.0380, -0.9190,  0.1691, -0.5698, -0.1967, -0.5212,  0.1583, -0.0233,\n",
      "          0.7839, -1.0796],\n",
      "        [ 0.2123, -0.9190,  1.3441, -0.8826, -1.5973, -1.5846,  0.3058, -1.5878,\n",
      "         -0.9967, -0.4195],\n",
      "        [-1.7326, -0.9190, -1.2940, -1.4299, -0.4593, -0.2915,  0.2320, -0.8055,\n",
      "         -0.9000, -1.6453],\n",
      "        [ 0.6291,  1.0759,  0.5017, -0.6480, -0.1967,  0.8966, -1.3906,  1.5412,\n",
      "         -1.9603, -1.1739],\n",
      "        [ 0.4901, -0.9190, -0.6954, -0.2571, -0.2259, -0.4359,  0.9696, -0.8055,\n",
      "         -0.5547,  0.2405],\n",
      "        [-0.8991,  1.0759, -0.2299,  1.9321,  1.8459,  2.1898, -0.8743,  2.3235,\n",
      "          0.8748, -0.7967],\n",
      "        [-0.4129, -0.9190,  1.4771,  0.0556, -0.5761, -0.4293,  0.3795, -0.8055,\n",
      "         -1.2058, -1.2682],\n",
      "        [-0.3434, -0.9190, -0.8063, -0.6480,  0.6495,  0.6932,  0.6746, -0.0233,\n",
      "         -0.6082,  0.4291],\n",
      "        [ 0.8374,  1.0759,  1.4106,  0.6029, -0.9846, -0.7969, -0.9480, -0.0233,\n",
      "          0.5292, -0.2310],\n",
      "        [-0.4129, -0.9190, -0.2299, -0.8044, -0.1092, -0.3046,  0.6746, -0.8055,\n",
      "         -0.0882, -1.0796],\n",
      "        [-0.6213, -0.9190, -0.9836, -1.6644, -0.7511, -1.8800,  2.7397, -1.5878,\n",
      "         -0.3076,  0.0519],\n",
      "        [-0.3434, -0.9190,  0.7677, -0.0225,  1.7000,  1.8616, -0.4318,  1.5412,\n",
      "          0.8103,  0.2405],\n",
      "        [-0.6907, -0.9190,  0.9894, -0.4917, -0.7219, -0.7050, -0.8005,  0.0940,\n",
      "          0.8233, -0.2310],\n",
      "        [-1.0380,  1.0759,  1.2554, -0.3353, -1.1013, -1.0923,  0.3795, -0.8055,\n",
      "         -0.8380,  0.0519],\n",
      "        [ 0.4207,  1.0759, -0.7841,  1.5412,  0.1826, -0.0749,  1.1909, -0.8055,\n",
      "         -0.5547,  0.9948],\n",
      "        [-0.6907, -0.9190, -1.2053, -0.8044, -0.1675,  0.2337, -0.9480,  0.7590,\n",
      "          0.2536, -0.1367],\n",
      "        [ 1.5321, -0.9190,  0.5238,  1.5412,  1.2623,  0.8310,  0.0845, -0.0233,\n",
      "          1.3451, -1.1739],\n",
      "        [-0.8991,  1.0759, -0.0969,  1.3848,  1.1455,  1.4612, -0.8743,  1.5412,\n",
      "          0.7572,  0.0519],\n",
      "        [ 1.1153,  1.0759, -0.3629,  1.3848, -0.1967, -0.1733, -0.5055, -0.0233,\n",
      "          0.6749, -0.7024],\n",
      "        [-1.9410, -0.9190, -0.5624, -1.4299, -1.3931, -1.5453,  0.0845, -0.8055,\n",
      "          0.0901, -1.6453],\n",
      "        [-1.1769,  1.0759, -0.1191, -0.8044, -0.3718,  0.0302, -1.2431,  0.7590,\n",
      "          0.5140, -0.6081],\n",
      "        [-1.3159,  1.0759, -0.2299,  0.2902, -0.4593, -0.5869, -1.3906,  0.7590,\n",
      "          1.5437, -0.2310],\n",
      "        [ 0.0734,  1.0759,  0.7677,  1.3066,  0.7954,  1.1198, -0.8743,  1.5412,\n",
      "          0.6466,  0.8062],\n",
      "        [ 1.2542, -0.9190, -0.2964,  2.0884,  0.9121,  0.5947, -1.0218,  1.5412,\n",
      "          1.7963,  3.2578],\n",
      "        [-1.0380,  1.0759, -0.0747, -0.2313, -1.1013, -0.5606, -1.2431,  0.3678,\n",
      "         -0.1090, -0.6081],\n",
      "        [ 1.3931, -0.9190, -1.1166, -0.8044, -0.6052, -0.5803,  0.6008, -0.8055,\n",
      "         -1.0984, -1.1739],\n",
      "        [ 0.2817,  1.0759, -0.6733,  0.7593,  0.7662,  1.4743, -1.5381,  2.3235,\n",
      "          0.4363, -0.8910],\n",
      "        [-0.4129,  1.0759,  1.3884,  1.2284,  1.7583,  1.7434, -0.1367,  0.7590,\n",
      "          0.9123,  1.2777],\n",
      "        [-0.7602, -0.9190,  0.9450,  0.1338,  0.2993,  0.2534, -0.6530,  0.5947,\n",
      "          1.0560, -0.4195],\n",
      "        [ 0.9764,  1.0759,  0.5460,  0.9939,  0.3869,  0.4765,  0.0845, -0.0233,\n",
      "          0.0326,  0.6177],\n",
      "        [ 0.3512, -0.9190, -0.2742, -0.2571,  0.2118,  0.3781, -1.6118,  2.3235,\n",
      "          1.3845, -0.3252],\n",
      "        [-1.5243, -0.9190,  0.0583, -0.1007, -0.1092,  0.0958,  0.3795, -0.8055,\n",
      "         -1.2058, -0.1367],\n",
      "        [-0.9686, -0.9190, -0.0969, -0.6480, -1.0429, -1.0661,  0.0108, -0.8055,\n",
      "         -0.0675, -1.8339],\n",
      "        [-0.8296, -0.9190, -1.1831, -2.2117, -0.1092, -0.3899,  1.1909, -0.9698,\n",
      "         -0.6082, -1.0796],\n",
      "        [-0.4129, -0.9190, -1.0945, -0.5698,  0.9413,  0.3518,  2.3709, -0.8055,\n",
      "         -0.9967, -0.0424],\n",
      "        [ 0.1428, -0.9190, -1.2053, -0.0225, -0.1967, -0.4753,  0.7483, -0.8055,\n",
      "          0.0326,  0.3348],\n",
      "        [ 0.3512, -0.9190, -0.3851, -0.8044, -0.6928, -1.0136,  1.4859, -1.5878,\n",
      "         -1.4403,  0.4291],\n",
      "        [-0.4129, -0.9190, -1.1610, -1.0389, -1.9475, -2.2542,  0.9696, -1.5878,\n",
      "         -1.0984, -1.3624],\n",
      "        [-0.3434, -0.9190, -1.2940, -1.3517, -1.3055, -1.1251,  0.3058, -0.8055,\n",
      "         -1.8041, -0.9853],\n",
      "        [-1.1075, -0.9190,  0.8785, -0.4135, -0.6928, -0.4622, -0.2105, -0.0233,\n",
      "         -0.4521, -1.0796]])\n"
     ]
    }
   ],
   "source": [
    "def norm_set(x: torch.Tensor, mu: torch.Tensor, sigma: torch.Tensor) -> torch.tensor:\n",
    "    # Adding a small Offset to the denominator to prevent divide by zero exception\n",
    "    offset = 1e-6\n",
    "    x_std_features = (x - mu) / (sigma + offset)\n",
    "    return x_std_features\n",
    "\n",
    "# your code here\n",
    "x_train_dimensions = list(range(x_train.dim() - 1))\n",
    "x_train_mean = torch.mean(x_train, dim=x_train_dimensions)\n",
    "x_train_std = torch.std(x_train, dim=x_train_dimensions)\n",
    "x_train = norm_set(x_train, x_train_mean, x_train_std)\n",
    "\n",
    "x_test_dimensions = list(range(x_test.dim() - 1))\n",
    "x_test_mean = torch.mean(x_test, dim=x_test_dimensions)\n",
    "x_test_std = torch.std(x_test, dim=x_test_dimensions)\n",
    "x_test = norm_set(x_test, x_test_mean, x_test_std)\n",
    "print(\"Normalised x_train\",x_train)\n",
    "print(\"Normalised x_test\", x_test)\n"
   ]
  },
  {
   "cell_type": "markdown",
   "metadata": {
    "id": "d_qQkwRGFBF8"
   },
   "source": [
    "## 1.1 Linear Regression\n",
    "\n",
    "We will building the linear regression model in pytorch using a custom layer. \n",
    "\n",
    "Refering back to the lecture notes, we define $ y = f(x) = w^T x$, so we need to learn weight vector $w$.\n",
    "\n",
    "**Q2.** Fill in the forward method of the LinearRegression class. [2 marks]"
   ]
  },
  {
   "cell_type": "code",
   "execution_count": 2189,
   "metadata": {
    "id": "mxp1LoliF3Qc"
   },
   "outputs": [],
   "source": [
    "class LinearRegression(nn.Module):\n",
    "  def __init__(self, num_features):\n",
    "    super().__init__()\n",
    "    self.weight = nn.Parameter(torch.zeros(1, num_features), requires_grad=False)\n",
    "    self.linear = nn.Linear(num_features, 1)\n",
    "  \n",
    "  def forward(self, x):\n",
    "    y = 0\n",
    "   ### your code here\n",
    "    y = torch.matmul(x,self.weight.T) \n",
    "    return y\n"
   ]
  },
  {
   "cell_type": "markdown",
   "metadata": {
    "id": "Rr7MDAIWboLi"
   },
   "source": [
    "As we need to account for the bias, we add a column of ones to the `x_data`"
   ]
  },
  {
   "cell_type": "code",
   "execution_count": 2190,
   "metadata": {
    "id": "rCn-E-CZbxOL"
   },
   "outputs": [],
   "source": [
    "# add a feature for bias\n",
    "x_train = torch.cat([x_train, torch.ones(x_train.shape[0], 1)], dim=1)\n",
    "x_test = torch.cat([x_test, torch.ones(x_test.shape[0], 1)], dim=1)"
   ]
  },
  {
   "cell_type": "code",
   "execution_count": 2191,
   "metadata": {
    "id": "Tfeh3o4Gk_xW"
   },
   "outputs": [
    {
     "data": {
      "text/plain": [
       "torch.Size([353, 1])"
      ]
     },
     "execution_count": 2191,
     "metadata": {},
     "output_type": "execute_result"
    }
   ],
   "source": [
    "#test the custom layer\n",
    "model = LinearRegression(x_train.shape[1])\n",
    "prediction = model(x_train)\n",
    "prediction.shape # the output should be Nx1"
   ]
  },
  {
   "cell_type": "markdown",
   "metadata": {
    "id": "H-kUQVD9ne_i"
   },
   "source": [
    "The next step is to calculate the cost. For this we will use the mean squared error $E(w) = \\frac{1}{N} Σ_{i=0}^N (f(x_i) - y_i)^2$\n",
    "\n",
    "**Q3.** Fill in the method to calculate the squared error of for any set of labels $y$ and predictions [2 marks]"
   ]
  },
  {
   "cell_type": "code",
   "execution_count": 2192,
   "metadata": {
    "id": "25SVCd01l29-"
   },
   "outputs": [],
   "source": [
    "def mean_squared_error(y_pred: torch.Tensor, y_true: torch.Tensor) -> torch.Tensor:\n",
    "  ### your code here\n",
    "#   cost = torch.mean((y_pred - y_true)**2)\n",
    "  sq_error = (y_pred - y_true)**2\n",
    "  N = len(y_pred)\n",
    "  cost = 1.0/(N) * sq_error.sum()\n",
    "  return cost"
   ]
  },
  {
   "cell_type": "code",
   "execution_count": 2193,
   "metadata": {
    "id": "yTuAgK6FpLEh"
   },
   "outputs": [
    {
     "name": "stdout",
     "output_type": "stream",
     "text": [
      "Mean Squared Error:  tensor(29711.3223)\n"
     ]
    }
   ],
   "source": [
    "cost = mean_squared_error(y_train, prediction)\n",
    "print(\"Mean Squared Error: \",cost)"
   ]
  },
  {
   "cell_type": "markdown",
   "metadata": {
    "id": "qVV7MCfxqtyA"
   },
   "source": [
    "We see that using a random set of initial parameters for bias and weight, yields a relatively high error. As such, we will update the values for $w$ using gradient descent. We will implement a custom method for gradient descent.\n",
    "\n",
    "**Q4.** In the method below, add your code to update bias and weight using learning rate $α$. [2 marks]\n",
    "\n",
    "First you need to calculate the partial derivative of the loss function with respect to the weights. \n",
    "\n",
    "We then update the weights vector using the following equation:\n",
    "\n",
    "$ weight = weight - α * ∂_{weight}$"
   ]
  },
  {
   "cell_type": "code",
   "execution_count": 2194,
   "metadata": {
    "id": "TJXOTQInsIFz"
   },
   "outputs": [],
   "source": [
    "def gradient_descent_step(model: nn.Module, X: torch.Tensor, y: torch.Tensor, y_pred: torch.Tensor, lr: float) -> None:\n",
    "  weight = model.weight\n",
    "  N = X.shape[0]\n",
    "  x_dimensions = list(range(X.dim() - 1))\n",
    "  meansq_error = mean_squared_error(y, y_pred)\n",
    "  derivate_error = 2*(y_pred - y)\n",
    "  derivate_weight = torch.mean(derivate_error * X, dim=x_dimensions)\n",
    "  weight = weight - lr * derivate_weight\n",
    "  model.weight = nn.Parameter(weight, requires_grad=False)"
   ]
  },
  {
   "cell_type": "code",
   "execution_count": 2195,
   "metadata": {
    "id": "4lQDX_zeG6W1"
   },
   "outputs": [
    {
     "data": {
      "image/png": "[encoded data removed]",
      "text/plain": [
       "<Figure size 432x288 with 2 Axes>"
      ]
     },
     "metadata": {
      "needs_background": "light"
     },
     "output_type": "display_data"
    },
    {
     "name": "stdout",
     "output_type": "stream",
     "text": [
      "Parameter containing:\n",
      "tensor([[  1.9400, -11.4488,  26.3048,  16.6306,  -9.8810,  -2.3180,  -7.6995,\n",
      "           8.2121,  21.9769,   2.6065, 153.7365]])\n",
      "Minimum cost: 2890.406494140625\n"
     ]
    }
   ],
   "source": [
    "cost_lst = list()\n",
    "model = LinearRegression(x_train.shape[1])\n",
    "alpha = .1\n",
    "for it in range(100):\n",
    "  prediction = model(x_train)\n",
    "  cost = mean_squared_error(y_train, prediction)\n",
    "  cost_lst.append(cost)\n",
    "  gradient_descent_step(model, x_train, y_train, prediction, alpha)\n",
    "fig, axs = plt.subplots(2)\n",
    "axs[0].plot(list(range(it+1)), cost_lst)\n",
    "axs[1].scatter(prediction, y_train)\n",
    "plt.show()\n",
    "print(model.weight)\n",
    "print('Minimum cost: {}'.format(min(cost_lst)))"
   ]
  },
  {
   "cell_type": "markdown",
   "metadata": {
    "id": "Mwypj_XWLKKq"
   },
   "source": [
    "<font color=\"maroon\">**Q5.** What conclusion if any can be drawn from the weight values? How does gender and BMI affect blood sugar levels?\n",
    "\n",
    "What are the estimated blood sugar levels for the below examples? [2 marks] </font>\n",
    "\n",
    "| AGE | SEX | BMI | BP  | S1  | S2    | S3 | S4  | S5     | S6  |\n",
    "|-----|-----|-----|-----|-----|-------|----|-----|--------|-----|\n",
    "| 25  | F   | 18  | 79  | 130 | 64.8  | 61 | 2   | 4.1897 | 68  |\n",
    "| 50  | M   | 28  | 103 | 229 | 162.2 | 60 | 4.5 | 6.107  | 124 |"
   ]
  },
  {
   "cell_type": "code",
   "execution_count": 2196,
   "metadata": {
    "id": "StYxCUdPWSEp"
   },
   "outputs": [
    {
     "name": "stdout",
     "output_type": "stream",
     "text": [
      "Weights Parameter containing:\n",
      "tensor([[  1.9400, -11.4488,  26.3048,  16.6306,  -9.8810,  -2.3180,  -7.6995,\n",
      "           8.2121,  21.9769,   2.6065, 153.7365]])\n",
      "Predicted Blood Sugar Levels are:  tensor([[ 93.9010],\n",
      "        [213.5721]])\n"
     ]
    }
   ],
   "source": [
    "### your code here\n",
    "model.weight\n",
    "examples = torch.Tensor([[25, 2, 18, 79, 130, 64.8, 61, 2, 4.1897, 68],\n",
    "                                 [50, 1, 28, 103, 229, 162.2, 60, 4.5, 6.107, 124]])\n",
    "examples_dimensions = list(range(examples.dim() - 1))\n",
    "examples_mean = torch.mean(examples, dim=examples_dimensions)\n",
    "examples_std = torch.std(examples, dim=examples_dimensions)\n",
    "examples = (examples - examples_mean)/examples_std\n",
    "\n",
    "examples = torch.hstack((examples, torch.ones(2,1)))\n",
    "\n",
    "prediction = model(examples)\n",
    "print(\"Weights\",model.weight)\n",
    "print(\"Predicted Blood Sugar Levels are: \", prediction)"
   ]
  },
  {
   "cell_type": "markdown",
   "metadata": {
    "id": "9IlXN47P-cCY"
   },
   "source": [
    "Now estimate the error on the test set. Is the error on the test set comparable to that of the train set? What can be said about the fit of the model? When does a model over/under fits?\n"
   ]
  },
  {
   "cell_type": "code",
   "execution_count": 2197,
   "metadata": {
    "id": "_yuYH06A-xoj"
   },
   "outputs": [
    {
     "name": "stdout",
     "output_type": "stream",
     "text": [
      "Train Error is  tensor(2890.4065)\n",
      "Test Error is  tensor(2929.9824)\n"
     ]
    }
   ],
   "source": [
    "### your code here\n",
    "prediction = model(x_test)\n",
    "test_error = mean_squared_error(y_test, prediction)\n",
    "print(\"Train Error is \", min(cost_lst))\n",
    "print(\"Test Error is \",test_error)\n",
    "## "
   ]
  },
  {
   "cell_type": "markdown",
   "metadata": {},
   "source": [
    "- The errors on the train set and the test set are comparable. The model is slightly underfitting, as the error on test data is just slightly more than the train data."
   ]
  },
  {
   "cell_type": "markdown",
   "metadata": {
    "id": "qnz2O9Pagpf7"
   },
   "source": [
    "<font color=\"maroon\">**Q6.** Try the code with a number of learning rates that differ by orders of magnitude and record the error of the training and test sets. What do you observe on the training error? What about the error on the test set? [3 marks]</font>"
   ]
  },
  {
   "cell_type": "code",
   "execution_count": 2198,
   "metadata": {
    "id": "Sp9nNM0R-7CH"
   },
   "outputs": [
    {
     "data": {
      "image/png": "[encoded data removed]",
      "text/plain": [
       "<Figure size 432x288 with 1 Axes>"
      ]
     },
     "metadata": {
      "needs_background": "light"
     },
     "output_type": "display_data"
    },
    {
     "name": "stdout",
     "output_type": "stream",
     "text": [
      "Minimum cost for the selected alpha is 0.1: 2890.406494140625\n",
      "Minimum Train Error for 0.1 learning rate are : 2890.406494140625\n",
      "Test Error for 0.1 learning rate are : 2929.982421875\n"
     ]
    },
    {
     "data": {
      "image/png": "[encoded data removed]",
      "text/plain": [
       "<Figure size 432x288 with 1 Axes>"
      ]
     },
     "metadata": {
      "needs_background": "light"
     },
     "output_type": "display_data"
    },
    {
     "name": "stdout",
     "output_type": "stream",
     "text": [
      "Minimum cost for the selected alpha is 0.1: 3356.77783203125\n",
      "Minimum Train Error for 0.01 learning rate are : 3356.77783203125\n",
      "Test Error for 0.01 learning rate are : 3005.350830078125\n"
     ]
    },
    {
     "data": {
      "image/png": "[encoded data removed]",
      "text/plain": [
       "<Figure size 432x288 with 1 Axes>"
      ]
     },
     "metadata": {
      "needs_background": "light"
     },
     "output_type": "display_data"
    },
    {
     "name": "stdout",
     "output_type": "stream",
     "text": [
      "Minimum cost for the selected alpha is 0.1: 20040.5859375\n",
      "Minimum Train Error for 0.001 learning rate are : 20040.5859375\n",
      "Test Error for 0.001 learning rate are : 17473.318359375\n"
     ]
    }
   ],
   "source": [
    "learning_rates = [0.1,0.01,0.001]\n",
    "for lr in learning_rates:\n",
    "    cost_lst = list()\n",
    "    model = LinearRegression(x_train.shape[1])\n",
    "    for itr in range(100):\n",
    "        prediction = model(x_train)\n",
    "        cost = mean_squared_error(y_train, prediction)\n",
    "        cost_lst.append(cost)\n",
    "        gradient_descent_step(model, x_train, y_train, prediction, lr)\n",
    "    fig, axs = plt.subplots()\n",
    "    axs.plot(list(range(itr+1)), cost_lst)\n",
    "#     axs[1].scatter(prediction, y_train)\n",
    "    plt.show()\n",
    "    prediction = model(x_test)\n",
    "    test_error = mean_squared_error(y_test, prediction)\n",
    "    print('Minimum cost for the selected alpha is {}: {}'.format(alpha, min(cost_lst)))\n",
    "    print('Minimum Train Error for {} learning rate are : {}'.format(lr,min(cost_lst)))\n",
    "    print('Test Error for {} learning rate are : {}'.format(lr,test_error))"
   ]
  },
  {
   "cell_type": "markdown",
   "metadata": {
    "id": "eI9cKY_TWiUM"
   },
   "source": [
    "# 1.2 Regularized Linear Regression\n",
    "In this exercise, we will be trying to create a model that fits data that is clearly not linear. We will be attempting to fit the data points seen in the graph below:"
   ]
  },
  {
   "cell_type": "code",
   "execution_count": 2199,
   "metadata": {
    "id": "hupAUhrofKfy"
   },
   "outputs": [
    {
     "data": {
      "image/png": "[encoded data removed]",
      "text/plain": [
       "<Figure size 432x288 with 1 Axes>"
      ]
     },
     "metadata": {
      "needs_background": "light"
     },
     "output_type": "display_data"
    }
   ],
   "source": [
    "x = torch.tensor([-0.99768, -0.69574, -0.40373, -0.10236, 0.22024, 0.47742, 0.82229])\n",
    "y = torch.tensor([2.0885, 1.1646, 0.3287, 0.46013, 0.44808, 0.10013, -0.32952]).reshape(-1, 1)\n",
    "plt.scatter(x, y)\n",
    "plt.show()"
   ]
  },
  {
   "cell_type": "markdown",
   "metadata": {
    "id": "k6epuBvnf7P9"
   },
   "source": [
    "In order to fit this data we will create a new hypothesis function, which uses a fifth-order polynomial:\n",
    "\n",
    "$\n",
    " h_{\\theta}(x) = \\theta_{0} x_{0} + \\theta_{1} x_{1} + \\theta_{2} x_{1} ^2 + \\theta_{3} x_{1} ^3 + \\theta_{4} x_{1} ^4 + \\theta_{5} x_{1} ^5\n",
    "$\n",
    "\n",
    "As we are fitting a small number of points with a high order model, there is a danger of overfitting.  \\\\\n",
    "\n",
    "To attempt to avoid this we will use regularization. Our cost function becomes:\n",
    "\n",
    "$\n",
    " J(\\theta) = \\frac{1}{2m}  \\left[ \\sum_{i=1}^m ( h_{\\theta}(x^{(i)}) - y^{(i)})^2 + \\lambda    \\sum_{j=1}^n \\theta_{j}^2 \\right] \n",
    "$\n",
    "\n",
    "Adjust variable `x` to include the higher order polynomials"
   ]
  },
  {
   "cell_type": "code",
   "execution_count": 2200,
   "metadata": {
    "id": "4nOF1xJKY_Jx"
   },
   "outputs": [
    {
     "name": "stdout",
     "output_type": "stream",
     "text": [
      "torch.Size([6, 7])\n",
      "tensor([[ 1.0000e+00,  1.0000e+00,  1.0000e+00,  1.0000e+00,  1.0000e+00,\n",
      "          1.0000e+00,  1.0000e+00],\n",
      "        [-9.9768e-01, -6.9574e-01, -4.0373e-01, -1.0236e-01,  2.2024e-01,\n",
      "          4.7742e-01,  8.2229e-01],\n",
      "        [ 9.9537e-01,  4.8405e-01,  1.6300e-01,  1.0478e-02,  4.8506e-02,\n",
      "          2.2793e-01,  6.7616e-01],\n",
      "        [-9.9306e-01, -3.3678e-01, -6.5807e-02, -1.0725e-03,  1.0683e-02,\n",
      "          1.0882e-01,  5.5600e-01],\n",
      "        [ 9.9075e-01,  2.3431e-01,  2.6568e-02,  1.0978e-04,  2.3528e-03,\n",
      "          5.1952e-02,  4.5719e-01],\n",
      "        [-9.8845e-01, -1.6302e-01, -1.0726e-02, -1.1237e-05,  5.1818e-04,\n",
      "          2.4803e-02,  3.7595e-01]])\n"
     ]
    }
   ],
   "source": [
    "### your code here\n",
    "x = torch.stack([torch.ones(x.shape),x, x**2, x**3, x**4, x**5])\n",
    "print(x.size())\n",
    "print(x)\n",
    "### hint: remember to add x_0 for the bias"
   ]
  },
  {
   "cell_type": "markdown",
   "metadata": {
    "id": "cg9OdKcyhEN0"
   },
   "source": [
    "**Q7.** Update the cost and gradient descent methods to use the regularised cost, as shown above. [4 marks]\n",
    "\n",
    "Note that the punishment for having more terms is not applied to the bias. This means that we use a different update technique for the partial derivative of $\\theta_{0}$, and add the regularization to all of the others:\n",
    "\n",
    "\n",
    "\n",
    "$\n",
    " \\theta_{j} =  \\theta_{j} - \\alpha \\frac{1}{m} \\sum_{i=1}^m ( h_{\\theta}(x^{(i)}) - y^{(i)})x^{(i)}_{j} , j=0 \n",
    "$\n",
    "\n",
    "\n",
    "\n",
    "$\n",
    " \\theta_{j} =  \\theta_{j} (1 - \\alpha \\frac{\\lambda}{m}) - \n",
    " \\alpha \\frac{1}{m} \\sum_{i=1}^m ( h_{\\theta}(x^{(i)}) - y^{(i)})x^{(i)}_{j} , j>0 \n",
    "$"
   ]
  },
  {
   "cell_type": "code",
   "execution_count": 2201,
   "metadata": {
    "id": "c-h9vdC5hSPO"
   },
   "outputs": [],
   "source": [
    "def mean_squared_error(y_true: torch.Tensor, y_pred: torch.Tensor, lam: float, theta: torch.tensor) -> torch.Tensor:\n",
    "  ### your code here\n",
    "  mean_square_error = torch.mean((y_pred - y_true)**2)\n",
    "  cost = 0.5 * (mean_square_error + lam*torch.mean(theta**2))\n",
    "  return cost\n",
    "\n",
    "def gradient_descent_step(model: nn.Module, X: torch.Tensor, y: torch.Tensor, y_pred: torch.Tensor, lr: float, lam:float) -> None:\n",
    "  weight = model.weight\n",
    "  N = X.shape[0]\n",
    "  ### your code here\n",
    "\n",
    "  ###\n",
    "  model.weight = nn.Parameter(weight, requires_grad=False)\n",
    "\n"
   ]
  },
  {
   "cell_type": "markdown",
   "metadata": {
    "id": "-ZfVxPRYkns1"
   },
   "source": [
    "<font color=\"maroon\"> **Q8.** First of all, find the best value of alpha to use in order to optimize best.\n",
    "Next, experiment with different values of $\\lambda$ and see how this affects the shape of the hypothesis. [3 marks]</font>"
   ]
  },
  {
   "cell_type": "code",
   "execution_count": 2202,
   "metadata": {
    "id": "9hFP4DHzZDkB"
   },
   "outputs": [
    {
     "data": {
      "image/png": "[encoded data removed]",
      "text/plain": [
       "<Figure size 432x288 with 1 Axes>"
      ]
     },
     "metadata": {
      "needs_background": "light"
     },
     "output_type": "display_data"
    },
    {
     "name": "stdout",
     "output_type": "stream",
     "text": [
      "Parameter containing:\n",
      "tensor([[0., 0., 0., 0., 0., 0.]])\n",
      "Minimum cost: 0.45409098267555237\n"
     ]
    }
   ],
   "source": [
    "cost_lst = list()\n",
    "model = LinearRegression(x3.shape[1])\n",
    "\n",
    "alpha = 0.04 # select an appropriate alpha\n",
    "lam = 0.001 # select an appropriate lambda\n",
    "for it in range(100):\n",
    "    prediction = model(x3)\n",
    "    cost = mean_squared_error(y, prediction, lam, model.weight)\n",
    "    print(cost)\n",
    "    cost_lst.append(cost)\n",
    "    gradient_descent_step(model, x3, y, prediction, alpha, lam)\n",
    "display.clear_output(wait=True)\n",
    "plt.plot(list(range(it+1)), cost_lst)\n",
    "plt.show()\n",
    "print(model.weight)\n",
    "print('Minimum cost: {}'.format(min(cost_lst)))"
   ]
  },
  {
   "cell_type": "code",
   "execution_count": null,
   "metadata": {},
   "outputs": [],
   "source": []
  },
  {
   "cell_type": "code",
   "execution_count": 2203,
   "metadata": {
    "id": "xys3bBGpk8wp"
   },
   "outputs": [
    {
     "data": {
      "image/png": "[encoded data removed]",
      "text/plain": [
       "<Figure size 432x288 with 1 Axes>"
      ]
     },
     "metadata": {
      "needs_background": "light"
     },
     "output_type": "display_data"
    }
   ],
   "source": [
    "plt.scatter(x3[:, 0], y, c='red', marker='x', label='groundtruth')\n",
    "outputs = model(x3)\n",
    "plt.plot(x3[:, 0], outputs, c='blue', marker='o', label='prediction')\n",
    "plt.xlabel('x1')\n",
    "plt.ylabel('y=f(x1)')\n",
    "plt.legend()\n",
    "plt.show()"
   ]
  },
  {
   "cell_type": "code",
   "execution_count": null,
   "metadata": {},
   "outputs": [],
   "source": []
  },
  {
   "cell_type": "code",
   "execution_count": null,
   "metadata": {},
   "outputs": [],
   "source": []
  }
 ],
 "metadata": {
  "colab": {
   "collapsed_sections": [],
   "provenance": [],
   "toc_visible": true
  },
  "kernelspec": {
   "display_name": "Python 3 (ipykernel)",
   "language": "python",
   "name": "python3"
  },
  "language_info": {
   "codemirror_mode": {
    "name": "ipython",
    "version": 3
   },
   "file_extension": ".py",
   "mimetype": "text/x-python",
   "name": "python",
   "nbconvert_exporter": "python",
   "pygments_lexer": "ipython3",
   "version": "3.9.12"
  }
 },
 "nbformat": 4,
 "nbformat_minor": 1
}
